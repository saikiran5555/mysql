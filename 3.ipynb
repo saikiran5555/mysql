{
 "cells": [
  {
   "cell_type": "markdown",
   "id": "b237e503",
   "metadata": {},
   "source": [
    "DML stands for Data Manipulation Language, which is a subset of SQL (Structured Query Language) used for manipulating and interacting with the data stored in a database. DML statements are used to insert, update, and delete data within database tables. Unlike DDL (Data Definition Language) which focuses on the structure of the database, DML focuses on the actual data stored in the database.\n",
    "\n",
    "Here's an explanation of some common DML statements and their usage with examples:\n",
    "\n",
    "1. **INSERT**:\n",
    "   The INSERT statement is used to add new rows of data into a table.\n",
    "\n",
    "   Example - Inserting Data:\n",
    "   ```sql\n",
    "   INSERT INTO Employees (EmployeeID, FirstName, LastName, DepartmentID)\n",
    "   VALUES (1, 'John', 'Doe', 101);\n",
    "   ```\n",
    "\n",
    "2. **UPDATE**:\n",
    "   The UPDATE statement is used to modify existing data within a table.\n",
    "\n",
    "   Example - Updating Data:\n",
    "   ```sql\n",
    "   UPDATE Employees\n",
    "   SET DepartmentID = 102\n",
    "   WHERE EmployeeID = 1;\n",
    "   ```\n",
    "\n",
    "3. **DELETE**:\n",
    "   The DELETE statement is used to remove rows of data from a table.\n",
    "\n",
    "   Example - Deleting Data:\n",
    "   ```sql\n",
    "   DELETE FROM Employees\n",
    "   WHERE EmployeeID = 1;\n",
    "   ```\n",
    "\n",
    "In the examples above:\n",
    "\n",
    "- The **INSERT INTO** statement adds a new row of data to the \"Employees\" table with values for EmployeeID, FirstName, LastName, and DepartmentID.\n",
    "- The **UPDATE** statement modifies the DepartmentID for a specific employee (EmployeeID = 1) in the \"Employees\" table.\n",
    "- The **DELETE FROM** statement removes a specific employee (EmployeeID = 1) from the \"Employees\" table.\n",
    "\n",
    "These DML statements are essential for manipulating the data within the database, allowing you to add, modify, and delete records as needed. Proper usage of DML statements is crucial for maintaining data accuracy and integrity in the database. It's important to be cautious when using DELETE statements, as they permanently remove data from the database. Transactions and appropriate WHERE clauses are often used to control and manage the impact of these statements on the data."
   ]
  }
 ],
 "metadata": {
  "kernelspec": {
   "display_name": "Python 3 (ipykernel)",
   "language": "python",
   "name": "python3"
  },
  "language_info": {
   "codemirror_mode": {
    "name": "ipython",
    "version": 3
   },
   "file_extension": ".py",
   "mimetype": "text/x-python",
   "name": "python",
   "nbconvert_exporter": "python",
   "pygments_lexer": "ipython3",
   "version": "3.10.9"
  }
 },
 "nbformat": 4,
 "nbformat_minor": 5
}
