{
 "cells": [
  {
   "cell_type": "markdown",
   "id": "46cc88c2",
   "metadata": {},
   "source": [
    "DQL stands for Data Query Language, which is a subset of SQL (Structured Query Language) used for querying and retrieving data from a database. DQL is primarily focused on retrieving data and does not involve modifying the structure of the database or the data itself. The most common DQL statement is the SELECT statement, which is used to retrieve data from one or more database tables.\n",
    "\n",
    "Here's an explanation of the SELECT statement and its usage with an example:\n",
    "\n",
    "**SELECT**:\n",
    "The SELECT statement is used to retrieve data from one or more tables. It allows you to specify the columns you want to retrieve, the table(s) you want to query, and optional filtering and sorting conditions.\n",
    "\n",
    "Example - Retrieving Data:\n",
    "```sql\n",
    "SELECT FirstName, LastName, DepartmentID\n",
    "FROM Employees\n",
    "WHERE DepartmentID = 102\n",
    "ORDER BY LastName;\n",
    "```\n",
    "\n",
    "In this example:\n",
    "\n",
    "- The **SELECT** clause specifies the columns you want to retrieve from the \"Employees\" table: FirstName, LastName, and DepartmentID.\n",
    "- The **FROM** clause specifies the table you are querying, which is \"Employees.\"\n",
    "- The **WHERE** clause filters the results to only include rows where the DepartmentID is equal to 102.\n",
    "- The **ORDER BY** clause sorts the results based on the LastName column in ascending order.\n",
    "\n",
    "The result of this SELECT statement will be a list of employees' first names, last names, and department IDs from the \"Employees\" table, filtered to include only those in DepartmentID 102 and sorted by last name.\n",
    "\n",
    "SELECT statements can also involve more complex operations such as joining multiple tables, performing aggregate functions (e.g., SUM, COUNT, AVG), and grouping data based on specific criteria.\n",
    "\n",
    "DQL is essential for querying databases to retrieve meaningful and relevant information for reporting, analysis, and decision-making purposes. The SELECT statement is a fundamental tool for extracting data from databases and is widely used in various applications and industries."
   ]
  }
 ],
 "metadata": {
  "kernelspec": {
   "display_name": "Python 3 (ipykernel)",
   "language": "python",
   "name": "python3"
  },
  "language_info": {
   "codemirror_mode": {
    "name": "ipython",
    "version": 3
   },
   "file_extension": ".py",
   "mimetype": "text/x-python",
   "name": "python",
   "nbconvert_exporter": "python",
   "pygments_lexer": "ipython3",
   "version": "3.10.9"
  }
 },
 "nbformat": 4,
 "nbformat_minor": 5
}
