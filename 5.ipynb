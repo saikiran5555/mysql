{
 "cells": [
  {
   "cell_type": "markdown",
   "id": "530b2628",
   "metadata": {},
   "source": [
    "**Primary Key**:\n",
    "A primary key is a unique identifier for a record within a database table. It ensures that each row in the table is uniquely identifiable. A primary key constraint enforces the rule that no two rows in the table can have the same primary key value. Primary keys are essential for maintaining data integrity and for establishing relationships between tables.\n",
    "\n",
    "Key characteristics of a primary key:\n",
    "\n",
    "1. **Uniqueness**: Each value in the primary key column(s) must be unique across all rows in the table.\n",
    "2. **Non-nullability**: The primary key column(s) cannot contain null values, ensuring that each row has a valid identifier.\n",
    "3. **Stability**: The primary key value should not change once it is assigned to a row, as it's used to identify and relate records.\n",
    "\n",
    "Example of defining a primary key:\n",
    "```sql\n",
    "CREATE TABLE Students (\n",
    "    StudentID INT PRIMARY KEY,\n",
    "    FirstName VARCHAR(50),\n",
    "    LastName VARCHAR(50),\n",
    "    Age INT\n",
    ");\n",
    "```\n",
    "\n",
    "In this example, the \"StudentID\" column is designated as the primary key for the \"Students\" table, ensuring that each student has a unique identifier.\n",
    "\n",
    "**Foreign Key**:\n",
    "A foreign key is a column (or set of columns) in a table that establishes a link between the data in two different tables. It creates a relationship between the tables by referencing the primary key of another table. The table containing the foreign key is referred to as the \"child\" table, while the table being referenced is the \"parent\" table.\n",
    "\n",
    "Key characteristics of a foreign key:\n",
    "\n",
    "1. **Reference**: The foreign key references a unique primary key in another table.\n",
    "2. **Data Integrity**: A foreign key constraint ensures that values in the foreign key column(s) of the child table correspond to valid values in the parent table's primary key column(s).\n",
    "3. **Relationship**: Foreign keys are used to establish relationships between tables, allowing data to be linked and associated.\n",
    "\n",
    "Example of defining a foreign key:\n",
    "```sql\n",
    "CREATE TABLE Courses (\n",
    "    CourseID INT PRIMARY KEY,\n",
    "    CourseName VARCHAR(100)\n",
    ");\n",
    "\n",
    "CREATE TABLE Enrollments (\n",
    "    EnrollmentID INT PRIMARY KEY,\n",
    "    StudentID INT,\n",
    "    CourseID INT,\n",
    "    FOREIGN KEY (StudentID) REFERENCES Students(StudentID),\n",
    "    FOREIGN KEY (CourseID) REFERENCES Courses(CourseID)\n",
    ");\n",
    "```\n",
    "\n",
    "In this example, the \"Enrollments\" table has two foreign keys, \"StudentID\" and \"CourseID,\" which reference the primary keys of the \"Students\" and \"Courses\" tables, respectively. This establishes a relationship between students, courses, and their enrollments.\n",
    "\n",
    "Foreign keys are crucial for maintaining data integrity and enforcing relationships between tables. They help ensure that data remains consistent and accurate when dealing with related information across multiple tables."
   ]
  }
 ],
 "metadata": {
  "kernelspec": {
   "display_name": "Python 3 (ipykernel)",
   "language": "python",
   "name": "python3"
  },
  "language_info": {
   "codemirror_mode": {
    "name": "ipython",
    "version": 3
   },
   "file_extension": ".py",
   "mimetype": "text/x-python",
   "name": "python",
   "nbconvert_exporter": "python",
   "pygments_lexer": "ipython3",
   "version": "3.10.9"
  }
 },
 "nbformat": 4,
 "nbformat_minor": 5
}
