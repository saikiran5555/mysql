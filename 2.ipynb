{
 "cells": [
  {
   "cell_type": "markdown",
   "id": "06275634",
   "metadata": {},
   "source": [
    "DDL stands for Data Definition Language, which is a subset of SQL (Structured Query Language) used for defining and managing the structure of a database. DDL statements are used to create, modify, and delete database objects such as tables, indexes, views, and schemas. DDL is focused on the schema and organization of the data rather than manipulating the data itself.\n",
    "\n",
    "Here's an explanation of some common DDL statements and their usage with examples:\n",
    "\n",
    "1. **CREATE**:\n",
    "   The CREATE statement is used to create new database objects, such as tables, indexes, and views.\n",
    "\n",
    "   Example - Creating a Table:\n",
    "   \n",
    "   CREATE TABLE Employees (\n",
    "       EmployeeID INT PRIMARY KEY,\n",
    "       FirstName VARCHAR(50),\n",
    "       LastName VARCHAR(50),\n",
    "       DepartmentID INT\n",
    "   );\n",
    "   ```\n",
    "\n",
    "2. **DROP**:\n",
    "   The DROP statement is used to delete existing database objects, such as tables, indexes, and views. This action removes the object and its associated data from the database.\n",
    "\n",
    "   Example - Dropping a Table:\n",
    "  \n",
    "   DROP TABLE Employees;\n",
    "   ```\n",
    "\n",
    "3. **ALTER**:\n",
    "   The ALTER statement is used to modify the structure of an existing database object, such as adding, modifying, or deleting columns in a table.\n",
    "\n",
    "   Example - Adding a Column:\n",
    "   \n",
    "   ALTER TABLE Employees\n",
    "   ADD Email VARCHAR(100);\n",
    "   ```\n",
    "\n",
    "4. **TRUNCATE**:\n",
    "   The TRUNCATE statement is used to quickly delete all rows from a table, effectively removing all data while keeping the table structure intact. It's faster than using the DELETE statement, as it doesn't log individual row deletions.\n",
    "\n",
    "   Example - Truncating a Table:\n",
    " \n",
    "   TRUNCATE TABLE Employees;\n",
    "   ```\n",
    "\n",
    "In the examples above:\n",
    "\n",
    "- The **CREATE TABLE** statement creates a new table named \"Employees\" with columns for EmployeeID, FirstName, LastName, and DepartmentID.\n",
    "- The **DROP TABLE** statement removes the \"Employees\" table and all its data from the database.\n",
    "- The **ALTER TABLE** statement adds a new \"Email\" column to the \"Employees\" table.\n",
    "- The **TRUNCATE TABLE** statement removes all data from the \"Employees\" table while keeping its structure intact.\n",
    "\n",
    "These DDL statements play a crucial role in defining and managing the database schema, which is essential for organizing and maintaining data efficiently. It's important to use DDL statements carefully, as they can have a significant impact on the database structure and data integrity."
   ]
  }
 ],
 "metadata": {
  "kernelspec": {
   "display_name": "Python 3 (ipykernel)",
   "language": "python",
   "name": "python3"
  },
  "language_info": {
   "codemirror_mode": {
    "name": "ipython",
    "version": 3
   },
   "file_extension": ".py",
   "mimetype": "text/x-python",
   "name": "python",
   "nbconvert_exporter": "python",
   "pygments_lexer": "ipython3",
   "version": "3.10.9"
  }
 },
 "nbformat": 4,
 "nbformat_minor": 5
}
